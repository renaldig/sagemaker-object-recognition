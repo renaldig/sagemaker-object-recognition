{
 "cells": [
  {
   "cell_type": "code",
   "execution_count": 1,
   "id": "9ccebe15",
   "metadata": {},
   "outputs": [
    {
     "name": "stdout",
     "output_type": "stream",
     "text": [
      "Collecting opencv-python-headless\n",
      "  Obtaining dependency information for opencv-python-headless from https://files.pythonhosted.org/packages/21/6d/abf701fa71ff22e3617ec9b46197f9ff5bba16dfefa7ee259b60216112eb/opencv_python_headless-4.8.0.76-cp37-abi3-manylinux_2_17_x86_64.manylinux2014_x86_64.whl.metadata\n",
      "  Downloading opencv_python_headless-4.8.0.76-cp37-abi3-manylinux_2_17_x86_64.manylinux2014_x86_64.whl.metadata (19 kB)\n",
      "Requirement already satisfied: numpy in /home/ec2-user/anaconda3/envs/python3/lib/python3.10/site-packages (1.22.3)\n",
      "Requirement already satisfied: pillow in /home/ec2-user/anaconda3/envs/python3/lib/python3.10/site-packages (9.4.0)\n",
      "Requirement already satisfied: requests in /home/ec2-user/anaconda3/envs/python3/lib/python3.10/site-packages (2.31.0)\n",
      "Requirement already satisfied: charset-normalizer<4,>=2 in /home/ec2-user/anaconda3/envs/python3/lib/python3.10/site-packages (from requests) (3.2.0)\n",
      "Requirement already satisfied: idna<4,>=2.5 in /home/ec2-user/anaconda3/envs/python3/lib/python3.10/site-packages (from requests) (3.4)\n",
      "Requirement already satisfied: urllib3<3,>=1.21.1 in /home/ec2-user/anaconda3/envs/python3/lib/python3.10/site-packages (from requests) (1.26.14)\n",
      "Requirement already satisfied: certifi>=2017.4.17 in /home/ec2-user/anaconda3/envs/python3/lib/python3.10/site-packages (from requests) (2023.5.7)\n",
      "Downloading opencv_python_headless-4.8.0.76-cp37-abi3-manylinux_2_17_x86_64.manylinux2014_x86_64.whl (49.1 MB)\n",
      "\u001b[2K   \u001b[90m━━━━━━━━━━━━━━━━━━━━━━━━━━━━━━━━━━━━━━━━\u001b[0m \u001b[32m49.1/49.1 MB\u001b[0m \u001b[31m31.4 MB/s\u001b[0m eta \u001b[36m0:00:00\u001b[0m:00:01\u001b[0m00:01\u001b[0m\n",
      "\u001b[?25hInstalling collected packages: opencv-python-headless\n",
      "Successfully installed opencv-python-headless-4.8.0.76\n"
     ]
    }
   ],
   "source": [
    "!pip install opencv-python-headless numpy pillow requests"
   ]
  },
  {
   "cell_type": "code",
   "execution_count": 7,
   "id": "3563197a",
   "metadata": {},
   "outputs": [],
   "source": [
    "import os\n",
    "import boto3\n",
    "import json\n",
    "import sagemaker\n",
    "from sagemaker import get_execution_role\n",
    "from sagemaker.amazon.amazon_estimator import get_image_uri\n",
    "from sagemaker.estimator import Estimator\n",
    "import cv2\n",
    "import zipfile\n",
    "import numpy as np\n",
    "import mxnet as mx\n",
    "from mxnet import recordio\n",
    "from PIL import Image\n",
    "import io\n",
    "import requests"
   ]
  },
  {
   "cell_type": "code",
   "execution_count": 4,
   "id": "16dc0934",
   "metadata": {},
   "outputs": [
    {
     "name": "stdout",
     "output_type": "stream",
     "text": [
      "  % Total    % Received % Xferd  Average Speed   Time    Time     Time  Current\n",
      "                                 Dload  Upload   Total   Spent    Left  Speed\n",
      "100 18.0G  100 18.0G    0     0  7643k      0  0:41:10  0:41:10 --:--:-- 7682k51M    0     0  6677k      0  0:47:08  0:01:09  0:45:59 7679k42:09  0:05:11  0:36:58 7718k 0  7594k      0  0:41:26  0:12:29  0:28:57 7675k  0:41:21  0:14:53  0:26:28 7670kG   41 7622M    0     0  7619k      0  0:41:18  0:17:04  0:24:14 7692k     0  7630k      0  0:41:14  0:20:00  0:21:14 7702k108M    0     0  7631k      0  0:41:14  0:20:22  0:20:52 7662k   52 9648M    0     0  7633k      0  0:41:13  0:21:34  0:19:39 7694k:41:12  0:22:34  0:18:38 7692k22:44  0:18:28 7682k0:41:12  0:23:04  0:18:08 7691k 0:41:11  0:24:40  0:16:31 7702k   68 12.2G    0     0  7646k      0  0:41:09  0:28:01  0:13:08 7654k0  7648k      0  0:41:08  0:29:37  0:11:31 7709k0:41:08  0:31:49  0:09:19 7703k:11  0:38:27  0:02:44 7714k59  0:00:11 7685k\n",
      "  % Total    % Received % Xferd  Average Speed   Time    Time     Time  Current\n",
      "                                 Dload  Upload   Total   Spent    Left  Speed\n",
      "100  777M  100  777M    0     0  6662k      0  0:01:59  0:01:59 --:--:-- 3919k\n",
      "  % Total    % Received % Xferd  Average Speed   Time    Time     Time  Current\n",
      "                                 Dload  Upload   Total   Spent    Left  Speed\n",
      "100  241M  100  241M    0     0  7213k      0  0:00:34  0:00:34 --:--:-- 7576k\n"
     ]
    }
   ],
   "source": [
    "!curl http://images.cocodataset.org/zips/train2017.zip | aws s3 cp - s3://newobjectdetectionbucket/train2017.zip\n",
    "!curl http://images.cocodataset.org/zips/val2017.zip | aws s3 cp - s3://newobjectdetectionbucket/val2017.zip\n",
    "!curl http://images.cocodataset.org/annotations/annotations_trainval2017.zip | aws s3 cp - s3://newobjectdetectionbucket/annotations_trainval2017.zip"
   ]
  },
  {
   "cell_type": "code",
   "execution_count": null,
   "id": "8df5895b",
   "metadata": {},
   "outputs": [],
   "source": [
    "role = get_execution_role()\n",
    "training_image = get_image_uri(boto3.Session().region_name, 'object-detection', repo_version='latest')\n",
    "s3_output_location = 's3://newobjectdetectionbucket2/traineddata/output'"
   ]
  },
  {
   "cell_type": "code",
   "execution_count": null,
   "id": "6a2c8660",
   "metadata": {},
   "outputs": [],
   "source": [
    "model = Estimator(training_image,\n",
    "                  role, \n",
    "                  instance_count=1, \n",
    "                  instance_type='ml.p2.xlarge',\n",
    "                  output_path=s3_output_location,\n",
    "                  base_job_name='obj-detection')"
   ]
  },
  {
   "cell_type": "code",
   "execution_count": null,
   "id": "1d9fe2e2",
   "metadata": {},
   "outputs": [],
   "source": [
    "model.set_hyperparameters(base_network='resnet-50',\n",
    "                          use_pretrained_model=1,\n",
    "                          num_classes=80,\n",
    "                          mini_batch_size=16,\n",
    "                          epochs=30,\n",
    "                          learning_rate=0.001,\n",
    "                          optimizer='sgd',\n",
    "                          momentum=0.9,\n",
    "                          weight_decay=0.0005,\n",
    "                          overlap_threshold=0.5,\n",
    "                          nms_threshold=0.45,\n",
    "                          image_shape=512,\n",
    "                          label_width=2000,\n",
    "                          num_training_samples=118287)"
   ]
  },
  {
   "cell_type": "code",
   "execution_count": null,
   "id": "42c3086d",
   "metadata": {},
   "outputs": [],
   "source": [
    "s3train = 's3://newobjectdetectionbucket2/recordio/train2'\n",
    "s3validation = 's3://newobjectdetectionbucket2/recordio/validation2'"
   ]
  },
  {
   "cell_type": "code",
   "execution_count": null,
   "id": "22a34ece",
   "metadata": {},
   "outputs": [],
   "source": [
    "train_data = sagemaker.inputs.TrainingInput(s3train, distribution='FullyReplicated', \n",
    "                                             content_type='application/x-recordio', \n",
    "                                             s3_data_type='S3Prefix')\n",
    "validation_data = sagemaker.inputs.TrainingInput(s3validation, distribution='FullyReplicated', \n",
    "                                                  content_type='application/x-recordio', \n",
    "                                                  s3_data_type='S3Prefix')\n",
    "data_channels = {'train': train_data, 'validation': validation_data}"
   ]
  },
  {
   "cell_type": "code",
   "execution_count": null,
   "id": "ae724a82",
   "metadata": {},
   "outputs": [],
   "source": [
    "model.fit(inputs=data_channels, logs=True)"
   ]
  },
  {
   "cell_type": "code",
   "execution_count": null,
   "id": "0d250ca5",
   "metadata": {},
   "outputs": [],
   "source": [
    "predictor = model.deploy(initial_instance_count=1,\n",
    "                          instance_type='ml.m4.xlarge')"
   ]
  }
 ],
 "metadata": {
  "kernelspec": {
   "display_name": "conda_python3",
   "language": "python",
   "name": "conda_python3"
  },
  "language_info": {
   "codemirror_mode": {
    "name": "ipython",
    "version": 3
   },
   "file_extension": ".py",
   "mimetype": "text/x-python",
   "name": "python",
   "nbconvert_exporter": "python",
   "pygments_lexer": "ipython3",
   "version": "3.10.12"
  }
 },
 "nbformat": 4,
 "nbformat_minor": 5
}
